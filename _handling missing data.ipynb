{
 "cells": [
  {
   "cell_type": "markdown",
   "id": "672dc423-38cd-483b-9b95-7fc5c6d0d74e",
   "metadata": {},
   "source": [
    "# Handling missing data"
   ]
  },
  {
   "cell_type": "code",
   "execution_count": null,
   "id": "f00b5e96-88cb-4e71-9513-26ede01cd7c2",
   "metadata": {},
   "outputs": [],
   "source": [
    "import pandas as pd"
   ]
  },
  {
   "cell_type": "code",
   "execution_count": 12,
   "id": "64280a5d-b0a0-403f-bbda-28d5834773cf",
   "metadata": {},
   "outputs": [
    {
     "name": "stdout",
     "output_type": "stream",
     "text": [
      "Original Data:\n",
      "   Name   Age   Salary\n",
      "0  John  25.0  50000.0\n",
      "1  Mike  30.0      NaN\n",
      "2  Sara   NaN  60000.0\n",
      "3  None  22.0  52000.0\n"
     ]
    }
   ],
   "source": [
    "# Sample dataset\n",
    "data = {\n",
    "    'Name': ['John', 'Mike', 'Sara', None],\n",
    "    'Age': [25, 30, None, 22],\n",
    "    'Salary': [50000, None, 60000, 52000]\n",
    "}\n",
    "\n",
    "df = pd.DataFrame(data)\n",
    "print(\"Original Data:\")\n",
    "print(df)\n"
   ]
  },
  {
   "cell_type": "code",
   "execution_count": 13,
   "id": "e86aa50c-5586-4a45-9a0b-1e4b2192ef54",
   "metadata": {},
   "outputs": [
    {
     "name": "stdout",
     "output_type": "stream",
     "text": [
      "\n",
      "Missing Values:\n",
      "Name      1\n",
      "Age       1\n",
      "Salary    1\n",
      "dtype: int64\n"
     ]
    }
   ],
   "source": [
    "print(\"\\nMissing Values:\")\n",
    "print(df.isnull().sum())\n"
   ]
  },
  {
   "cell_type": "code",
   "execution_count": 15,
   "id": "ff8be923-da6c-4939-8e3d-dfece237aab7",
   "metadata": {},
   "outputs": [
    {
     "name": "stdout",
     "output_type": "stream",
     "text": [
      "\n",
      "Data after filling missing values:\n",
      "      Name        Age   Salary\n",
      "0     John  25.000000  50000.0\n",
      "1     Mike  30.000000  52000.0\n",
      "2     Sara  25.666667  60000.0\n",
      "3  Unknown  22.000000  52000.0\n"
     ]
    }
   ],
   "source": [
    "# Fill missing 'Age' with the mean age\n",
    "df['Age'].fillna(df['Age'].mean(), inplace=True)\n",
    "\n",
    "# Fill missing 'Salary' with the median salary\n",
    "df['Salary'].fillna(df['Salary'].median(), inplace=True)\n",
    "\n",
    "# Fill missing 'Name' with 'Unknown'\n",
    "df['Name'].fillna('Unknown', inplace=True)\n",
    "\n",
    "print(\"\\nData after filling missing values:\")\n",
    "print(df)\n"
   ]
  },
  {
   "cell_type": "code",
   "execution_count": null,
   "id": "254e772a-6250-4442-9352-b377de94a85d",
   "metadata": {},
   "outputs": [],
   "source": []
  },
  {
   "cell_type": "code",
   "execution_count": null,
   "id": "00439a8f-ad62-4cf6-8862-dd31d44f2186",
   "metadata": {},
   "outputs": [],
   "source": []
  }
 ],
 "metadata": {
  "kernelspec": {
   "display_name": "Python 3 (ipykernel)",
   "language": "python",
   "name": "python3"
  },
  "language_info": {
   "codemirror_mode": {
    "name": "ipython",
    "version": 3
   },
   "file_extension": ".py",
   "mimetype": "text/x-python",
   "name": "python",
   "nbconvert_exporter": "python",
   "pygments_lexer": "ipython3",
   "version": "3.11.7"
  }
 },
 "nbformat": 4,
 "nbformat_minor": 5
}
