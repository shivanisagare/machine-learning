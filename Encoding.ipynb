{
 "cells": [
  {
   "cell_type": "markdown",
   "id": "6158be35-1a3a-479b-b414-a0648c9b81b3",
   "metadata": {},
   "source": [
    "# Encoding"
   ]
  },
  {
   "cell_type": "markdown",
   "id": "e84b754c-e625-4eb0-ab97-c822f3e6817b",
   "metadata": {},
   "source": [
    "# Label Encoding"
   ]
  },
  {
   "cell_type": "code",
   "execution_count": 3,
   "id": "9dce92c5-1b37-40a9-9878-904b2b955541",
   "metadata": {},
   "outputs": [
    {
     "name": "stdout",
     "output_type": "stream",
     "text": [
      "[0, 1, 2, 1, 0]\n"
     ]
    }
   ],
   "source": [
    "# List of categories\n",
    "fruits = [\"apple\", \"banana\", \"cherry\", \"banana\", \"apple\"]\n",
    "\n",
    "# Create a dictionary for label encoding\n",
    "label_dict = {\"apple\": 0, \"banana\": 1, \"cherry\": 2}\n",
    "\n",
    "# Apply label encoding using the dictionary\n",
    "encoded_fruits = [label_dict[fruit] for fruit in fruits]\n",
    "\n",
    "# Print the encoded values\n",
    "print(encoded_fruits)\n"
   ]
  },
  {
   "cell_type": "markdown",
   "id": "73185c29-578c-4354-9a83-53e06791055d",
   "metadata": {},
   "source": [
    "# one Hot encoding"
   ]
  },
  {
   "cell_type": "code",
   "execution_count": 6,
   "id": "b261b210-a8b4-4f18-b9e7-4829e08d351f",
   "metadata": {},
   "outputs": [
    {
     "name": "stdout",
     "output_type": "stream",
     "text": [
      "[[1, 0, 0], [0, 1, 0], [0, 0, 1], [0, 1, 0], [1, 0, 0]]\n"
     ]
    }
   ],
   "source": [
    "# List of categories\n",
    "fruits = [\"apple\", \"banana\", \"cherry\", \"banana\", \"apple\"]\n",
    "\n",
    "# Step 1: Get unique categories\n",
    "unique_fruits = sorted(set(fruits))\n",
    "\n",
    "# Step 2: Create one-hot encoding\n",
    "one_hot_encoded = []\n",
    "\n",
    "for fruit in fruits:\n",
    "    # Create a binary vector for each fruit\n",
    "    encoding = [1 if fruit == unique_fruit else 0 for unique_fruit in unique_fruits]\n",
    "    one_hot_encoded.append(encoding)\n",
    "\n",
    "# Print the one-hot encoded result\n",
    "print(one_hot_encoded)\n"
   ]
  },
  {
   "cell_type": "code",
   "execution_count": null,
   "id": "bdef0719-cb18-4be0-9d65-c848cea9a2ca",
   "metadata": {},
   "outputs": [],
   "source": []
  }
 ],
 "metadata": {
  "kernelspec": {
   "display_name": "Python 3 (ipykernel)",
   "language": "python",
   "name": "python3"
  },
  "language_info": {
   "codemirror_mode": {
    "name": "ipython",
    "version": 3
   },
   "file_extension": ".py",
   "mimetype": "text/x-python",
   "name": "python",
   "nbconvert_exporter": "python",
   "pygments_lexer": "ipython3",
   "version": "3.11.7"
  }
 },
 "nbformat": 4,
 "nbformat_minor": 5
}
